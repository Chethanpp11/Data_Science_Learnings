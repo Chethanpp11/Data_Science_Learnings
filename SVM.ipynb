{
 "cells": [
  {
   "cell_type": "code",
   "execution_count": 1,
   "id": "6d462173-7549-47b1-8e6f-59a9e898ef65",
   "metadata": {},
   "outputs": [],
   "source": [
    "from sklearn.datasets import load_iris\n",
    "from sklearn.model_selection import train_test_split\n",
    "from sklearn.svm import SVC"
   ]
  },
  {
   "cell_type": "code",
   "execution_count": 2,
   "id": "4770e357-c299-4e27-869b-a180678a942b",
   "metadata": {},
   "outputs": [],
   "source": [
    "# Load the Iris dataset\n",
    "iris = load_iris()\n",
    "X = iris.data\n",
    "y = iris.target"
   ]
  },
  {
   "cell_type": "code",
   "execution_count": 3,
   "id": "ce38e747-27a2-4247-ac83-84bd91e78085",
   "metadata": {},
   "outputs": [],
   "source": [
    "# Split the data into training and testing sets\n",
    "X_train, X_test, y_train, y_test = train_test_split(X, y, test_size=0.2, random_state=42)"
   ]
  },
  {
   "cell_type": "code",
   "execution_count": 4,
   "id": "a6f14643-0d0a-4ed3-9717-a7b14b867b01",
   "metadata": {},
   "outputs": [],
   "source": [
    "# Set of hyperparameters to try\n",
    "hyperparameters = [\n",
    "    {'kernel': 'rbf', 'gamma': 0.5, 'C': 0.01},\n",
    "    {'kernel': 'rbf', 'gamma': 0.5, 'C': 1},\n",
    "    {'kernel': 'rbf', 'gamma': 0.5, 'C': 10}\n",
    "]\n",
    "\n",
    "best_accuracy = 0\n",
    "best_model = None\n",
    "best_support_vectors = None"
   ]
  },
  {
   "cell_type": "code",
   "execution_count": 5,
   "id": "0b5002fe-dec2-47ca-a6df-2e28fbfc3342",
   "metadata": {},
   "outputs": [
    {
     "name": "stdout",
     "output_type": "stream",
     "text": [
      "For hyperparameters: {'kernel': 'rbf', 'gamma': 0.5, 'C': 0.01}, Accuracy: 0.3, Total Support Vectors: 120\n",
      "For hyperparameters: {'kernel': 'rbf', 'gamma': 0.5, 'C': 1}, Accuracy: 1.0, Total Support Vectors: 39\n",
      "For hyperparameters: {'kernel': 'rbf', 'gamma': 0.5, 'C': 10}, Accuracy: 1.0, Total Support Vectors: 31\n"
     ]
    }
   ],
   "source": [
    "# Train SVM models with different hyperparameters and find the best accuracy\n",
    "for params in hyperparameters:\n",
    "    model = SVC(kernel=params['kernel'], gamma=params['gamma'], C=params['C'], decision_function_shape='ovr')\n",
    "    model.fit(X_train, y_train)\n",
    "    accuracy = model.score(X_test, y_test)\n",
    "    support_vectors = model.n_support_.sum()\n",
    "    print(f\"For hyperparameters: {params}, Accuracy: {accuracy}, Total Support Vectors: {support_vectors}\")\n",
    "    if accuracy > best_accuracy:\n",
    "        best_accuracy = accuracy\n",
    "        best_model = model\n",
    "        best_support_vectors = support_vectors"
   ]
  },
  {
   "cell_type": "code",
   "execution_count": 6,
   "id": "184ad20d-036d-43a8-8351-04548bd049d1",
   "metadata": {},
   "outputs": [
    {
     "name": "stdout",
     "output_type": "stream",
     "text": [
      "\n",
      "Best accuracy: 1.0\n",
      "Total support vectors on test data: 39\n"
     ]
    }
   ],
   "source": [
    "print(\"\\nBest accuracy:\", best_accuracy)\n",
    "print(\"Total support vectors on test data:\", best_support_vectors)"
   ]
  },
  {
   "cell_type": "code",
   "execution_count": null,
   "id": "dfd01347-eb09-4f96-a631-8983ccd82567",
   "metadata": {},
   "outputs": [],
   "source": []
  },
  {
   "cell_type": "code",
   "execution_count": null,
   "id": "f3aa85fa-7b55-4c5b-ab18-9dd338907a58",
   "metadata": {},
   "outputs": [],
   "source": []
  }
 ],
 "metadata": {
  "kernelspec": {
   "display_name": "Python 3 (ipykernel)",
   "language": "python",
   "name": "python3"
  },
  "language_info": {
   "codemirror_mode": {
    "name": "ipython",
    "version": 3
   },
   "file_extension": ".py",
   "mimetype": "text/x-python",
   "name": "python",
   "nbconvert_exporter": "python",
   "pygments_lexer": "ipython3",
   "version": "3.12.3"
  }
 },
 "nbformat": 4,
 "nbformat_minor": 5
}
