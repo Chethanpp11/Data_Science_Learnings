{
 "cells": [
  {
   "cell_type": "code",
   "execution_count": 15,
   "id": "cba96a7c-4fab-4701-a599-052d6199cece",
   "metadata": {},
   "outputs": [],
   "source": [
    "import numpy as np\n",
    "from sklearn import datasets\n",
    "from sklearn.svm import SVC\n",
    "from sklearn.metrics import accuracy_score\n",
    "from sklearn.model_selection import train_test_split"
   ]
  },
  {
   "cell_type": "code",
   "execution_count": 16,
   "id": "9bd0c7bd-85ed-4762-92e7-30021dfcb25a",
   "metadata": {},
   "outputs": [],
   "source": [
    "iris = datasets.load_iris()"
   ]
  },
  {
   "cell_type": "code",
   "execution_count": 17,
   "id": "7ad5c684-1450-4e84-8ee6-28f50b775060",
   "metadata": {},
   "outputs": [],
   "source": [
    "X = iris.data\n",
    "y = iris.target\n",
    "X_train, X_test, y_train, y_test = train_test_split(X, y, test_size=0.2, random_state=42)"
   ]
  },
  {
   "cell_type": "code",
   "execution_count": 18,
   "id": "f90ccc61-0203-413f-8e0b-40b3e2f7c3ba",
   "metadata": {},
   "outputs": [],
   "source": [
    "hyperparams = [\n",
    "    {'kernel': 'rbf','gamma':0.5,'C':0.01},\n",
    "    {'kernel': 'rbf','gamma':0.5,'C':1},\n",
    "    {'kernel': 'rbf','gamma':0.5,'C':10}\n",
    "]"
   ]
  },
  {
   "cell_type": "code",
   "execution_count": 19,
   "id": "d8028d09-9798-406d-b053-d88b9aae362e",
   "metadata": {},
   "outputs": [],
   "source": [
    "results=[]\n",
    "for hyperparam in hyperparams:\n",
    "    clf = SVC(**hyperparam, decision_function_shape='ovr')\n",
    "    clf.fit(X_train, y_train)\n",
    "    y_pred = clf.predict(X_test)\n",
    "    accuracy = accuracy_score(y_test, y_pred)\n",
    "    n_support_vectors = clf.n_support_\n",
    "    results.append((hyperparam, accuracy, n_support_vectors))"
   ]
  },
  {
   "cell_type": "code",
   "execution_count": 20,
   "id": "acd24053-7ec4-49b0-a138-176f89cd602e",
   "metadata": {},
   "outputs": [
    {
     "name": "stdout",
     "output_type": "stream",
     "text": [
      "Hyperparameters: {'kernel': 'rbf', 'gamma': 0.5, 'C': 0.01}\n",
      "Accuracy: 0.3\n",
      "Number of support vectors: [40 41 39]\n",
      "\n",
      "Hyperparameters: {'kernel': 'rbf', 'gamma': 0.5, 'C': 1}\n",
      "Accuracy: 1.0\n",
      "Number of support vectors: [ 6 16 17]\n",
      "\n",
      "Hyperparameters: {'kernel': 'rbf', 'gamma': 0.5, 'C': 10}\n",
      "Accuracy: 1.0\n",
      "Number of support vectors: [ 6 11 14]\n",
      "\n"
     ]
    }
   ],
   "source": [
    "for result in results:\n",
    "    print(\"Hyperparameters:\", result[0])\n",
    "    print(\"Accuracy:\", result[1])\n",
    "    print(\"Number of support vectors:\", result[2])\n",
    "    print()"
   ]
  },
  {
   "cell_type": "code",
   "execution_count": null,
   "id": "3b6cf1cb-ba23-425b-9b79-a59bf800785b",
   "metadata": {},
   "outputs": [],
   "source": []
  }
 ],
 "metadata": {
  "kernelspec": {
   "display_name": "Python 3 (ipykernel)",
   "language": "python",
   "name": "python3"
  },
  "language_info": {
   "codemirror_mode": {
    "name": "ipython",
    "version": 3
   },
   "file_extension": ".py",
   "mimetype": "text/x-python",
   "name": "python",
   "nbconvert_exporter": "python",
   "pygments_lexer": "ipython3",
   "version": "3.12.3"
  }
 },
 "nbformat": 4,
 "nbformat_minor": 5
}
